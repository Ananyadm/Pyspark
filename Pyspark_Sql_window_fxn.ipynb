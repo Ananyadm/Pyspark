{
 "cells": [
  {
   "cell_type": "code",
   "execution_count": 1,
   "id": "d3cb505c",
   "metadata": {},
   "outputs": [],
   "source": [
    "import findspark\n",
    "findspark.init()\n",
    "\n",
    "import pyspark\n",
    "from pyspark import SparkContext, SparkConf\n",
    "from pyspark.sql import SparkSession\n",
    "sparkConf = SparkConf()"
   ]
  },
  {
   "cell_type": "code",
   "execution_count": 2,
   "id": "810f128c",
   "metadata": {},
   "outputs": [],
   "source": [
    "spark = SparkSession.builder.config(conf=sparkConf).getOrCreate()\n",
    "sc = spark.sparkContext"
   ]
  },
  {
   "cell_type": "code",
   "execution_count": 3,
   "id": "88310c71",
   "metadata": {},
   "outputs": [],
   "source": [
    "data = ((\"James\", \"Sales\", 3000), (\"Michael\", \"Sales\", 4600), (\"Robert\", \"Sales\", 4100), (\"Maria\", \"Finance\", 3000),  \\\n",
    "        (\"James\", \"Sales\", 3000), (\"Scott\", \"Finance\", 3300),(\"Jen\", \"Finance\", 3900), (\"Jeff\", \"Marketing\", 3000), \\\n",
    "        (\"Kumar\", \"Marketing\", 2000), (\"Saif\", \"Sales\", 4100) )\n",
    "\n",
    "columns= [\"employee_name\", \"department\", \"salary\"]"
   ]
  },
  {
   "cell_type": "code",
   "execution_count": 4,
   "id": "319d79db",
   "metadata": {},
   "outputs": [
    {
     "name": "stdout",
     "output_type": "stream",
     "text": [
      "root\n",
      " |-- employee_name: string (nullable = true)\n",
      " |-- department: string (nullable = true)\n",
      " |-- salary: long (nullable = true)\n",
      "\n",
      "+-------------+----------+------+\n",
      "|employee_name|department|salary|\n",
      "+-------------+----------+------+\n",
      "|James        |Sales     |3000  |\n",
      "|Michael      |Sales     |4600  |\n",
      "|Robert       |Sales     |4100  |\n",
      "|Maria        |Finance   |3000  |\n",
      "|James        |Sales     |3000  |\n",
      "|Scott        |Finance   |3300  |\n",
      "|Jen          |Finance   |3900  |\n",
      "|Jeff         |Marketing |3000  |\n",
      "|Kumar        |Marketing |2000  |\n",
      "|Saif         |Sales     |4100  |\n",
      "+-------------+----------+------+\n",
      "\n"
     ]
    }
   ],
   "source": [
    "df = spark.createDataFrame(data = data, schema = columns)\n",
    "df.printSchema()\n",
    "df.show(truncate=False)"
   ]
  },
  {
   "cell_type": "code",
   "execution_count": null,
   "id": "e88fcbdc",
   "metadata": {},
   "outputs": [],
   "source": [
    "# row_number\n",
    "\n",
    "from pyspark.sql.window import Window\n",
    "from pyspark.sql.functions import row_number"
   ]
  },
  {
   "cell_type": "code",
   "execution_count": null,
   "id": "a00b76ce",
   "metadata": {},
   "outputs": [],
   "source": [
    "windowSpec  = Window.partitionBy(\"department\").orderBy(\"salary\")\n",
    "\n",
    "df.withColumn(\"row_number\",row_number().over(windowSpec)).show(truncate=False)"
   ]
  },
  {
   "cell_type": "code",
   "execution_count": null,
   "id": "4e5aa837",
   "metadata": {},
   "outputs": [],
   "source": [
    "# rank()\n",
    "\n",
    "from pyspark.sql.functions import rank"
   ]
  },
  {
   "cell_type": "code",
   "execution_count": null,
   "id": "d7a48594",
   "metadata": {},
   "outputs": [],
   "source": [
    "df.withColumn(\"rank\",rank().over(windowSpec)).show()"
   ]
  },
  {
   "cell_type": "code",
   "execution_count": null,
   "id": "d835b47d",
   "metadata": {},
   "outputs": [],
   "source": [
    "# dense_rank()\n",
    "\n",
    "from pyspark.sql.functions import dense_rank"
   ]
  },
  {
   "cell_type": "code",
   "execution_count": null,
   "id": "e60eb2ee",
   "metadata": {},
   "outputs": [],
   "source": [
    "df.withColumn(\"dense_rank\",dense_rank().over(windowSpec)).show()"
   ]
  },
  {
   "cell_type": "code",
   "execution_count": null,
   "id": "8d15d35a",
   "metadata": {},
   "outputs": [],
   "source": [
    "# percent_rank\n",
    "\n",
    "from pyspark.sql.functions import percent_rank\n",
    "\n",
    "df.withColumn(\"percent_rank\",percent_rank().over(windowSpec)).show()"
   ]
  },
  {
   "cell_type": "code",
   "execution_count": null,
   "id": "d0f9dd51",
   "metadata": {},
   "outputs": [],
   "source": [
    "# ntile\n",
    "\n",
    "from pyspark.sql.functions import ntile\n",
    "\n",
    "df.withColumn(\"ntile\",ntile(2).over(windowSpec)).show()"
   ]
  },
  {
   "cell_type": "code",
   "execution_count": null,
   "id": "a60c793f",
   "metadata": {},
   "outputs": [],
   "source": [
    "# Aggregate functions\n",
    "\n",
    "from pyspark.sql.functions import col,avg,sum,min,max,row_number\n",
    "\n",
    "windowSpecAgg  = Window.partitionBy(\"department\")"
   ]
  },
  {
   "cell_type": "code",
   "execution_count": null,
   "id": "e174d53a",
   "metadata": {},
   "outputs": [],
   "source": [
    "df.withColumn(\"row\",row_number().over(windowSpec)) \\\n",
    "  .withColumn(\"avg\", avg(col(\"salary\")).over(windowSpecAgg)) \\\n",
    "  .withColumn(\"sum\", sum(col(\"salary\")).over(windowSpecAgg)) \\\n",
    "  .withColumn(\"min\", min(col(\"salary\")).over(windowSpecAgg)) \\\n",
    "  .withColumn(\"max\", max(col(\"salary\")).over(windowSpecAgg)) \\\n",
    "  .where(col(\"row\")==1).select(\"department\",\"avg\",\"sum\",\"min\",\"max\") \\\n",
    "  .show()"
   ]
  },
  {
   "cell_type": "code",
   "execution_count": null,
   "id": "7d0987d1",
   "metadata": {},
   "outputs": [],
   "source": [
    "# ranking functions\n",
    "\n",
    "from pyspark.sql.functions import row_number,rank,dense_rank,percent_rank,ntile\n",
    "\n",
    "windowSpec  = Window.partitionBy(\"department\").orderBy(\"salary\")"
   ]
  },
  {
   "cell_type": "code",
   "execution_count": null,
   "id": "3c6e236b",
   "metadata": {},
   "outputs": [],
   "source": [
    "df.withColumn(\"row_number\",row_number().over(windowSpec)) \\\n",
    "  .withColumn(\"rank\",rank().over(windowSpec)) \\\n",
    "  .withColumn(\"dense_rank\",dense_rank().over(windowSpec)) \\\n",
    "  .withColumn(\"percent_rank\",percent_rank().over(windowSpec)) \\\n",
    "  .withColumn(\"ntile\",ntile(2).over(windowSpec)) \\\n",
    "  .show()"
   ]
  },
  {
   "cell_type": "code",
   "execution_count": null,
   "id": "8d883919",
   "metadata": {},
   "outputs": [],
   "source": []
  }
 ],
 "metadata": {
  "kernelspec": {
   "display_name": "Python 3",
   "language": "python",
   "name": "python3"
  },
  "language_info": {
   "codemirror_mode": {
    "name": "ipython",
    "version": 3
   },
   "file_extension": ".py",
   "mimetype": "text/x-python",
   "name": "python",
   "nbconvert_exporter": "python",
   "pygments_lexer": "ipython3",
   "version": "3.8.8"
  }
 },
 "nbformat": 4,
 "nbformat_minor": 5
}
